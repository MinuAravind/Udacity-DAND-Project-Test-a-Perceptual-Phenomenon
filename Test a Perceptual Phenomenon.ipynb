{
 "cells": [
  {
   "cell_type": "markdown",
   "metadata": {},
   "source": [
    "### Analyzing the Stroop Effect\n",
    "Perform the analysis in the space below. Remember to follow [the instructions](https://docs.google.com/document/d/1-OkpZLjG_kX9J6LIQ5IltsqMzVWjh36QpnP2RYpVdPU/pub?embedded=True) and review the [project rubric](https://review.udacity.com/#!/rubrics/71/view) before submitting. Once you've completed the analysis and write up, download this file as a PDF or HTML file and submit in the final section of this lesson.\n"
   ]
  },
  {
   "cell_type": "code",
   "execution_count": 71,
   "metadata": {},
   "outputs": [
    {
     "name": "stdout",
     "output_type": "stream",
     "text": [
      "/home/workspace\n"
     ]
    },
    {
     "data": {
      "text/html": [
       "<div>\n",
       "<style>\n",
       "    .dataframe thead tr:only-child th {\n",
       "        text-align: right;\n",
       "    }\n",
       "\n",
       "    .dataframe thead th {\n",
       "        text-align: left;\n",
       "    }\n",
       "\n",
       "    .dataframe tbody tr th {\n",
       "        vertical-align: top;\n",
       "    }\n",
       "</style>\n",
       "<table border=\"1\" class=\"dataframe\">\n",
       "  <thead>\n",
       "    <tr style=\"text-align: right;\">\n",
       "      <th></th>\n",
       "      <th>Congruent</th>\n",
       "      <th>Incongruent</th>\n",
       "    </tr>\n",
       "  </thead>\n",
       "  <tbody>\n",
       "    <tr>\n",
       "      <th>0</th>\n",
       "      <td>12.079</td>\n",
       "      <td>19.278</td>\n",
       "    </tr>\n",
       "    <tr>\n",
       "      <th>1</th>\n",
       "      <td>16.791</td>\n",
       "      <td>18.741</td>\n",
       "    </tr>\n",
       "    <tr>\n",
       "      <th>2</th>\n",
       "      <td>9.564</td>\n",
       "      <td>21.214</td>\n",
       "    </tr>\n",
       "    <tr>\n",
       "      <th>3</th>\n",
       "      <td>8.630</td>\n",
       "      <td>15.687</td>\n",
       "    </tr>\n",
       "    <tr>\n",
       "      <th>4</th>\n",
       "      <td>14.669</td>\n",
       "      <td>22.803</td>\n",
       "    </tr>\n",
       "    <tr>\n",
       "      <th>5</th>\n",
       "      <td>12.238</td>\n",
       "      <td>20.878</td>\n",
       "    </tr>\n",
       "    <tr>\n",
       "      <th>6</th>\n",
       "      <td>14.692</td>\n",
       "      <td>24.572</td>\n",
       "    </tr>\n",
       "    <tr>\n",
       "      <th>7</th>\n",
       "      <td>8.987</td>\n",
       "      <td>17.394</td>\n",
       "    </tr>\n",
       "    <tr>\n",
       "      <th>8</th>\n",
       "      <td>9.401</td>\n",
       "      <td>20.762</td>\n",
       "    </tr>\n",
       "    <tr>\n",
       "      <th>9</th>\n",
       "      <td>14.480</td>\n",
       "      <td>26.282</td>\n",
       "    </tr>\n",
       "    <tr>\n",
       "      <th>10</th>\n",
       "      <td>22.328</td>\n",
       "      <td>24.524</td>\n",
       "    </tr>\n",
       "    <tr>\n",
       "      <th>11</th>\n",
       "      <td>15.298</td>\n",
       "      <td>18.644</td>\n",
       "    </tr>\n",
       "    <tr>\n",
       "      <th>12</th>\n",
       "      <td>15.073</td>\n",
       "      <td>17.510</td>\n",
       "    </tr>\n",
       "    <tr>\n",
       "      <th>13</th>\n",
       "      <td>16.929</td>\n",
       "      <td>20.330</td>\n",
       "    </tr>\n",
       "    <tr>\n",
       "      <th>14</th>\n",
       "      <td>18.200</td>\n",
       "      <td>35.255</td>\n",
       "    </tr>\n",
       "    <tr>\n",
       "      <th>15</th>\n",
       "      <td>12.130</td>\n",
       "      <td>22.158</td>\n",
       "    </tr>\n",
       "    <tr>\n",
       "      <th>16</th>\n",
       "      <td>18.495</td>\n",
       "      <td>25.139</td>\n",
       "    </tr>\n",
       "    <tr>\n",
       "      <th>17</th>\n",
       "      <td>10.639</td>\n",
       "      <td>20.429</td>\n",
       "    </tr>\n",
       "    <tr>\n",
       "      <th>18</th>\n",
       "      <td>11.344</td>\n",
       "      <td>17.425</td>\n",
       "    </tr>\n",
       "    <tr>\n",
       "      <th>19</th>\n",
       "      <td>12.369</td>\n",
       "      <td>34.288</td>\n",
       "    </tr>\n",
       "    <tr>\n",
       "      <th>20</th>\n",
       "      <td>12.944</td>\n",
       "      <td>23.894</td>\n",
       "    </tr>\n",
       "    <tr>\n",
       "      <th>21</th>\n",
       "      <td>14.233</td>\n",
       "      <td>17.960</td>\n",
       "    </tr>\n",
       "    <tr>\n",
       "      <th>22</th>\n",
       "      <td>19.710</td>\n",
       "      <td>22.058</td>\n",
       "    </tr>\n",
       "    <tr>\n",
       "      <th>23</th>\n",
       "      <td>16.004</td>\n",
       "      <td>21.157</td>\n",
       "    </tr>\n",
       "  </tbody>\n",
       "</table>\n",
       "</div>"
      ],
      "text/plain": [
       "    Congruent  Incongruent\n",
       "0      12.079       19.278\n",
       "1      16.791       18.741\n",
       "2       9.564       21.214\n",
       "3       8.630       15.687\n",
       "4      14.669       22.803\n",
       "5      12.238       20.878\n",
       "6      14.692       24.572\n",
       "7       8.987       17.394\n",
       "8       9.401       20.762\n",
       "9      14.480       26.282\n",
       "10     22.328       24.524\n",
       "11     15.298       18.644\n",
       "12     15.073       17.510\n",
       "13     16.929       20.330\n",
       "14     18.200       35.255\n",
       "15     12.130       22.158\n",
       "16     18.495       25.139\n",
       "17     10.639       20.429\n",
       "18     11.344       17.425\n",
       "19     12.369       34.288\n",
       "20     12.944       23.894\n",
       "21     14.233       17.960\n",
       "22     19.710       22.058\n",
       "23     16.004       21.157"
      ]
     },
     "execution_count": 71,
     "metadata": {},
     "output_type": "execute_result"
    }
   ],
   "source": [
    "import os\n",
    "p=os.getcwd()\n",
    "print(p)\n",
    "import numpy as np\n",
    "import matplotlib.pyplot as plt\n",
    "%matplotlib inline\n",
    "import matplotlib.patches as mpatches\n",
    "from scipy.stats import ttest_rel\n",
    "from scipy.stats import t\n",
    "import pandas as pd\n",
    "df=pd.read_csv(p+'/stroopdata.csv')\n",
    "df"
   ]
  },
  {
   "cell_type": "markdown",
   "metadata": {},
   "source": [
    "### Questions For Investigation :"
   ]
  },
  {
   "cell_type": "markdown",
   "metadata": {},
   "source": [
    "(1) What is the independent variable? What is the dependent variable?"
   ]
  },
  {
   "cell_type": "markdown",
   "metadata": {},
   "source": [
    "Dependent variable: The time it takes to name the ink colors in equally-sized lists in our Stroop task.\n",
    "Independent variable:Words condition- Congruent and Incongruent "
   ]
  },
  {
   "cell_type": "markdown",
   "metadata": {},
   "source": [
    "(2) What is an appropriate set of hypotheses for this task? Specify your null and alternative hypotheses, and clearly define any notation used. Justify your choices."
   ]
  },
  {
   "cell_type": "markdown",
   "metadata": {},
   "source": [
    "Null Hypothesis(Ho):There is no significant difference in the color recognition time for both congruent and incongruent word condition.\n",
    "Ho :( μc - μi = 0 )\n",
    "Aletrnative Hypothesis(Ha):There is a significant difference in the color recognition time for both congruent and incongruent word conditions.\n",
    "Ha : ( μc - μi ≠ 0 )\n",
    "Where,\n",
    "μ :the population mean \n",
    "μc:population mean from which congruent word test sample is derived\n",
    "μi:population mean from which incongruent word test sample is derived\n",
    "\n",
    "Statistical test proposed :Two tailed dependent sample t-test.\n",
    "I am performing this test because here we are comparing the time to name an ink color of a sample from same population in two different conditions(congruent and incongruent word condition) and based on this result we come to a conclusion about the population.\n",
    "Since none of the population parameters is available we cannot consider the z test.\n"
   ]
  },
  {
   "cell_type": "markdown",
   "metadata": {},
   "source": [
    "(3) Report some descriptive statistics regarding this dataset. Include at least one measure of central tendency and at least one measure of variability. The name of the data file is 'stroopdata.csv'."
   ]
  },
  {
   "cell_type": "code",
   "execution_count": 72,
   "metadata": {},
   "outputs": [
    {
     "name": "stdout",
     "output_type": "stream",
     "text": [
      "\n",
      "Congruent\n",
      "Mean(time)\t Median(time)\t Std(time)\n",
      "14.051125 \t 14.3565 \t 3.55935795765\n",
      "\n",
      "Incongruent\n",
      "Mean(time)\t Median(time)\t Std(time)\n",
      "22.0159166667 \t 21.0175 \t 4.79705712247\n"
     ]
    }
   ],
   "source": [
    "# Perform the analysis here\n",
    "#As a measure of central tendancy I will be finding the mean.\n",
    "#As as a measure of variability I will be finding the standard deviation\n",
    "c=df['Congruent']\n",
    "i=df['Incongruent']\n",
    "def descriptive_stats(column, heading, unit):\n",
    "    mean = np.mean(column)\n",
    "    median = np.median(column)\n",
    "    std = np.std(column, ddof=1)\n",
    "    print(heading)\n",
    "    print('Mean(' + unit + ')\\t', 'Median(' + unit + ')\\t', 'Std(' + unit + ')')\n",
    "    print(mean, '\\t', median, '\\t', std)\n",
    "\n",
    "print()\n",
    "descriptive_stats(c, 'Congruent', 'time')\n",
    "print()\n",
    "descriptive_stats(i, 'Incongruent', 'time')\n"
   ]
  },
  {
   "cell_type": "markdown",
   "metadata": {},
   "source": [
    "(4) Provide one or two visualizations that show the distribution of the sample data. Write one or two sentences noting what you observe about the plot or plots."
   ]
  },
  {
   "cell_type": "markdown",
   "metadata": {},
   "source": [
    "The two visualizations I'm using to show the distribution of the sample data are:\n",
    "1.Histogram\n",
    "2.Boxplot"
   ]
  },
  {
   "cell_type": "code",
   "execution_count": 73,
   "metadata": {},
   "outputs": [
    {
     "data": {
      "image/png": "[encoded data removed]",
      "text/plain": [
       "<matplotlib.figure.Figure at 0x7ff609c27ba8>"
      ]
     },
     "metadata": {},
     "output_type": "display_data"
    }
   ],
   "source": [
    "##1.To plot a Histogram\n",
    "cong = np.asarray(c)\n",
    "incong = np.asarray(i)\n",
    "    \n",
    "plt.figure()\n",
    "plt.xlabel('Color Recognition Time')\n",
    "plt.ylabel('Frequency')\n",
    "    \n",
    "plt.hist(incong, color='blue',edgecolor='black', linewidth=1.2)\n",
    "plt.hist(cong, color='green', edgecolor='black', linewidth=1.2)\n",
    "\n",
    "blue_patch = mpatches.Patch(color='blue', label=['Incongruent'])\n",
    "green_patch = mpatches.Patch(color='green', label=['Congruent'])\n",
    "plt.legend(title='Congruency', handles=[blue_patch, green_patch])\n",
    "plt.show()\n",
    "    "
   ]
  },
  {
   "cell_type": "markdown",
   "metadata": {},
   "source": [
    "When we look at the plot we see that the histogram of congruent condition is to the left of histogram of incongruent condition.There is a significant difference in the mean and median of the two samples of data."
   ]
  },
  {
   "cell_type": "code",
   "execution_count": 74,
   "metadata": {},
   "outputs": [
    {
     "data": {
      "image/png": "[encoded data removed]",
      "text/plain": [
       "<matplotlib.figure.Figure at 0x7ff609c278d0>"
      ]
     },
     "metadata": {},
     "output_type": "display_data"
    }
   ],
   "source": [
    "#2.To plot a box plot\n",
    "fig = plt.figure(0)\n",
    "ax = fig.add_subplot(111)\n",
    "bp = ax.boxplot([cong, incong,])\n",
    "ax.set_xticklabels(['Congruent', 'Incongruent'])\n",
    "plt.show()\n"
   ]
  },
  {
   "cell_type": "markdown",
   "metadata": {},
   "source": [
    "When we look at the box plot we see that there is a longer range of time difference in the incongruent test condition compared to the congruent.Outliers are present in the incongruent words sample."
   ]
  },
  {
   "cell_type": "markdown",
   "metadata": {},
   "source": [
    "(5)  Now, perform the statistical test and report your results. What is your confidence level or Type I error associated with your test? What is your conclusion regarding the hypotheses you set up? Did the results match up with your expectations? **Hint:**  Think about what is being measured on each individual, and what statistic best captures how an individual reacts in each environment."
   ]
  },
  {
   "cell_type": "markdown",
   "metadata": {
    "collapsed": true
   },
   "source": [
    "We perform the two tailed dependent sample t-test at α=0.05"
   ]
  },
  {
   "cell_type": "code",
   "execution_count": 89,
   "metadata": {},
   "outputs": [
    {
     "name": "stdout",
     "output_type": "stream",
     "text": [
      " t-critical value:  2.06865761042\n",
      " Mean Difference:  -7.96479166667\n",
      " Standar Error =  2.891,Degrees of Freedom = 23\n",
      " t-statistic = -8.021,p-value = 0.000000\n",
      " CI: (-13.9448, -1.9848)\n"
     ]
    }
   ],
   "source": [
    "mean_diff = np.mean(cong) - np.mean(incong)\n",
    "s_e_m =np.sqrt(np.std(cong, ddof=1)+np.std(incong, ddof=1))\n",
    "d_f = cong.shape[0] - 1\n",
    "t_critical = t.isf([0.025], [[d_f]])[0][0]\n",
    "m_o_e = t_critical * s_e_m\n",
    "\n",
    "print(' t-critical value: ', t_critical)\n",
    "print(' Mean Difference: ', mean_diff)\n",
    "print(' Standar Error = %6.3f,Degrees of Freedom = %d' % (s_e_m, d_f))\n",
    "print(' t-statistic = %6.3f,p-value = %f' % ttest_rel(cong, incong))\n",
    "print(' CI: (%6.4f, %6.4f)' % (mean_diff - m_o_e, mean_diff + m_o_e))\n"
   ]
  },
  {
   "cell_type": "markdown",
   "metadata": {},
   "source": [
    "t(23)=-8.021, p-value=0.00, two tailed test\n",
    "t-critical value is ±2.069\n",
    "Confidence Interval is (-13.9448, -1.9848)\n"
   ]
  },
  {
   "cell_type": "markdown",
   "metadata": {},
   "source": [
    "Here we performed a two tailed test at α=0.05.So on each side of the distribution we have 0.025.Here the p-value is much less than .025.hence we REJECT the null hypothesis.And thus we go with the alternative hypothesis and conclude that there is a significant difference in the color recognition time of congruent and incongruent words."
   ]
  },
  {
   "cell_type": "markdown",
   "metadata": {},
   "source": [
    "(6) Optional: What do you think is responsible for the effects observed? Can you think of an alternative or similar task that would result in a similar effect? Some research about the problem will be helpful for thinking about these two questions!\n",
    "\n",
    "I think that the reasons for the effects observed are because our brain is not uses to such a task. The color names of the words are always processed very quickly, regardless of the color of the ink. On the other hand, identifying colors is not a task that we have to report on very often and, because it is not automatized, it is slower. The fast and automatic processing of the color name of the word interferes with the reporting of the ink color."
   ]
  },
  {
   "cell_type": "markdown",
   "metadata": {},
   "source": [
    "Similar test can be performed in areas like:\n",
    "1.Jumbled letters.\n",
    "It doesn't matter in what order the letters in a word are, the only important thing is that the first and last letter be at the right place. The rest can be a total mess and you can still read it without problem. This is because the human mind does not read every letter by itself but the word as a whole.Here we can compare the word recognition time of jumbled and non-jumbles words to arrive at a conclusion.\n",
    "2.To find the odd one outs in a group of patterns,words,numbers etc based on the recognition time."
   ]
  },
  {
   "cell_type": "code",
   "execution_count": null,
   "metadata": {},
   "outputs": [],
   "source": []
  }
 ],
 "metadata": {
  "kernelspec": {
   "display_name": "Python 3",
   "language": "python",
   "name": "python3"
  },
  "language_info": {
   "codemirror_mode": {
    "name": "ipython",
    "version": 3
   },
   "file_extension": ".py",
   "mimetype": "text/x-python",
   "name": "python",
   "nbconvert_exporter": "python",
   "pygments_lexer": "ipython3",
   "version": "3.6.3"
  }
 },
 "nbformat": 4,
 "nbformat_minor": 2
}
